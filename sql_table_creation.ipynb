{
 "cells": [
  {
   "cell_type": "code",
   "execution_count": null,
   "id": "initial_id",
   "metadata": {
    "ExecuteTime": {
     "end_time": "2024-07-01T18:25:56.484767600Z",
     "start_time": "2024-07-01T18:25:56.433767900Z"
    },
    "collapsed": true
   },
   "outputs": [],
   "source": [
    "import mysql.connector\n",
    "import pandas as pd\n",
    "from mysql.connector import Error"
   ]
  },
  {
   "cell_type": "code",
   "execution_count": null,
   "id": "cb958ba747f9e212",
   "metadata": {
    "ExecuteTime": {
     "end_time": "2024-07-01T18:25:59.124087900Z",
     "start_time": "2024-07-01T18:25:59.114113400Z"
    },
    "collapsed": false
   },
   "outputs": [],
   "source": [
    "def create_server_connection(host_name, user_name, user_password):\n",
    "    connection = None\n",
    "    try:\n",
    "        connection = mysql.connector.connect(\n",
    "            host=host_name,\n",
    "            user=user_name,\n",
    "            passwd=user_password\n",
    "        )\n",
    "        print(\"MySQL Database connection successful\")\n",
    "    except Error as err:\n",
    "        print(f\"Error: '{err}'\")\n",
    "\n",
    "    return connection"
   ]
  },
  {
   "cell_type": "code",
   "execution_count": null,
   "id": "d419671717b08a0e",
   "metadata": {
    "ExecuteTime": {
     "end_time": "2024-07-01T18:30:17.431264100Z",
     "start_time": "2024-07-01T18:30:17.403265Z"
    },
    "collapsed": false
   },
   "outputs": [],
   "source": [
    "connection = create_server_connection(\"localhost\", \"root\", 'MySqlP@ssword2024!')"
   ]
  },
  {
   "cell_type": "code",
   "execution_count": null,
   "id": "cc6ee91b64502bfe",
   "metadata": {
    "ExecuteTime": {
     "end_time": "2024-07-01T18:31:06.551917100Z",
     "start_time": "2024-07-01T18:31:06.529918400Z"
    },
    "collapsed": false
   },
   "outputs": [],
   "source": [
    "def create_database(connection, query):\n",
    "    cursor = connection.cursor()\n",
    "    try:\n",
    "        cursor.execute(query)\n",
    "        print(\"Database created successfully\")\n",
    "    except Error as err:\n",
    "        print(f\"Error: '{err}'\")"
   ]
  },
  {
   "cell_type": "code",
   "execution_count": null,
   "id": "9c953c0cb4bcebb7",
   "metadata": {
    "ExecuteTime": {
     "end_time": "2024-07-01T19:05:13.647961200Z",
     "start_time": "2024-07-01T19:05:13.615958700Z"
    },
    "collapsed": false
   },
   "outputs": [],
   "source": [
    "create_database_query = 'CREATE DATABASE simage_data'\n",
    "create_database(connection, create_database_query)"
   ]
  },
  {
   "cell_type": "code",
   "execution_count": null,
   "id": "618030bace18ab3a",
   "metadata": {
    "ExecuteTime": {
     "end_time": "2024-07-01T19:10:14.589322300Z",
     "start_time": "2024-07-01T19:10:14.565276300Z"
    },
    "collapsed": false
   },
   "outputs": [],
   "source": [
    "def create_db_connection(host_name, user_name, user_password, db_name):\n",
    "    connection = None\n",
    "    try:\n",
    "        connection = mysql.connector.connect(\n",
    "            host=host_name,\n",
    "            user=user_name,\n",
    "            passwd=user_password,\n",
    "            database=db_name\n",
    "        )\n",
    "        print(\"MySQL Database connection successful\")\n",
    "    except Error as err:\n",
    "        print(f\"Error: '{err}'\")\n",
    "\n",
    "    return connection"
   ]
  },
  {
   "cell_type": "code",
   "execution_count": null,
   "id": "3c452e79629aa43a",
   "metadata": {
    "ExecuteTime": {
     "end_time": "2024-07-01T19:10:17.050827200Z",
     "start_time": "2024-07-01T19:10:17.031014500Z"
    },
    "collapsed": false
   },
   "outputs": [],
   "source": [
    "def execute_query(connection, query):\n",
    "    cursor = connection.cursor()\n",
    "    try:\n",
    "        cursor.execute(query)\n",
    "        connection.commit()\n",
    "        print(\"Query successful\")\n",
    "    except Error as err:\n",
    "        print(f\"Error: '{err}'\")"
   ]
  },
  {
   "cell_type": "code",
   "execution_count": null,
   "id": "1dc1cb2d80842e62",
   "metadata": {
    "ExecuteTime": {
     "end_time": "2024-07-01T20:25:30.836701Z",
     "start_time": "2024-07-01T20:25:30.783804Z"
    },
    "collapsed": false
   },
   "outputs": [],
   "source": [
    "create_data_table = \"\"\"\n",
    "CREATE TABLE data (\n",
    "  subject_id VARCHAR(400) PRIMARY KEY,\n",
    "  Submission_Date DATETIME NOT NULL,\n",
    "  Age FLOAT NOT NULL,\n",
    "  CXCL9 FLOAT NOT NULL,\n",
    "  CCL22 FLOAT NOT NULL,\n",
    "  IL6 FLOAT NOT NULL,\n",
    "  PDGFB FLOAT NOT NULL,\n",
    "  CD40LG FLOAT NOT NULL,\n",
    "  IL27 FLOAT NOT NULL,\n",
    "  VEGFA FLOAT NOT NULL,\n",
    "  CSF1 FLOAT NOT NULL,\n",
    "  PDGFA FLOAT NOT NULL,\n",
    "  CXCL10 FLOAT NOT NULL,\n",
    "  SImAge FLOAT NOT NULL\n",
    "  );\n",
    " \"\"\"\n",
    "\n",
    "connection = create_db_connection(\"localhost\", \"root\", 'MySqlP@ssword2024!', 'simage_data')\n",
    "execute_query(connection, create_data_table)"
   ]
  },
  {
   "cell_type": "code",
   "execution_count": null,
   "id": "1f66eff23e6adb9e",
   "metadata": {
    "ExecuteTime": {
     "end_time": "2024-07-05T15:59:17.797016600Z",
     "start_time": "2024-07-05T15:59:17.760016800Z"
    },
    "collapsed": false
   },
   "outputs": [],
   "source": [
    "pop_sample = \"\"\"\n",
    "INSERT INTO data VALUES\n",
    "('tst_ctrl_000',  '2024-07-05 18:57:00', 53, 1837.555744, 840.866086, 0.451228919, 34643.53957, 3922.04539, 1322.281093, 283.9104028, 0.039449559, 3356.026332, 80.9627251, 48.54391861);\n",
    "\"\"\"\n",
    "\n",
    "connection = create_db_connection(\"localhost\", \"root\", 'MySqlP@ssword2024!', 'simage_data')\n",
    "execute_query(connection, pop_sample)"
   ]
  },
  {
   "cell_type": "code",
   "execution_count": null,
   "id": "54e30dbec803b7fa",
   "metadata": {
    "ExecuteTime": {
     "end_time": "2024-07-05T15:59:27.680663700Z",
     "start_time": "2024-07-05T15:59:27.662665300Z"
    },
    "collapsed": false
   },
   "outputs": [],
   "source": [
    "def read_query(connection, query):\n",
    "    cursor = connection.cursor()\n",
    "    result = None\n",
    "    try:\n",
    "        cursor.execute(query)\n",
    "        result = cursor.fetchall()\n",
    "        return result\n",
    "    except Error as err:\n",
    "        print(f\"Error: '{err}'\")"
   ]
  },
  {
   "cell_type": "code",
   "execution_count": null,
   "id": "477236abfac734ab",
   "metadata": {
    "ExecuteTime": {
     "end_time": "2024-07-05T15:59:41.494294400Z",
     "start_time": "2024-07-05T15:59:41.479293100Z"
    },
    "collapsed": false
   },
   "outputs": [],
   "source": [
    "q1 = \"\"\"\n",
    "SELECT *\n",
    "FROM data;\n",
    "\"\"\"\n",
    "\n",
    "connection = create_db_connection(\"localhost\", \"root\", 'MySqlP@ssword2024!', 'simage_data')\n",
    "results = read_query(connection, q1)\n",
    "\n",
    "for result in results:\n",
    "  print(result)"
   ]
  },
  {
   "cell_type": "code",
   "execution_count": null,
   "id": "e4133c6d4e5996a6",
   "metadata": {
    "ExecuteTime": {
     "end_time": "2024-07-05T16:00:35.825461200Z",
     "start_time": "2024-07-05T16:00:35.809460800Z"
    },
    "collapsed": false
   },
   "outputs": [],
   "source": [
    "def execute_list_query(connection, sql, val):\n",
    "    cursor = connection.cursor()\n",
    "    try:\n",
    "        cursor.executemany(sql, val)\n",
    "        connection.commit()\n",
    "        print(\"Query successful\")\n",
    "    except Error as err:\n",
    "        print(f\"Error: '{err}'\")"
   ]
  },
  {
   "cell_type": "code",
   "execution_count": null,
   "id": "6385790f952af367",
   "metadata": {
    "ExecuteTime": {
     "end_time": "2024-07-08T11:38:55.920360300Z",
     "start_time": "2024-07-08T11:38:55.895361800Z"
    },
    "collapsed": false
   },
   "outputs": [],
   "source": [
    "del_q = \"\"\"\n",
    "DELETE FROM data;\n",
    "\"\"\"\n",
    "\n",
    "connection = create_db_connection(\"localhost\", \"root\", 'MySqlP@ssword2024!', 'simage_data')\n",
    "execute_query(connection, del_q)"
   ]
  },
  {
   "cell_type": "code",
   "execution_count": null,
   "id": "76739c9eec129746",
   "metadata": {
    "ExecuteTime": {
     "end_time": "2024-07-05T16:03:08.056698200Z",
     "start_time": "2024-07-05T16:03:08.032698100Z"
    },
    "collapsed": false
   },
   "outputs": [],
   "source": [
    "q1 = \"\"\"\n",
    "SELECT *\n",
    "FROM data;\n",
    "\"\"\"\n",
    "\n",
    "connection = create_db_connection(\"localhost\", \"root\", 'MySqlP@ssword2024!', 'simage_data')\n",
    "results = read_query(connection, q1)\n",
    "\n",
    "for result in results:\n",
    "  print(result)"
   ]
  },
  {
   "cell_type": "code",
   "execution_count": null,
   "id": "5e583df4ba933a73",
   "metadata": {
    "ExecuteTime": {
     "end_time": "2024-07-08T10:47:16.514018100Z",
     "start_time": "2024-07-08T10:47:16.492019400Z"
    },
    "collapsed": false
   },
   "outputs": [],
   "source": [
    "import pandas as pd\n",
    "import datetime"
   ]
  },
  {
   "cell_type": "code",
   "execution_count": null,
   "id": "13cdff478287837b",
   "metadata": {
    "ExecuteTime": {
     "end_time": "2024-07-08T11:36:38.074488Z",
     "start_time": "2024-07-08T11:36:38.027485200Z"
    },
    "collapsed": false
   },
   "outputs": [],
   "source": [
    "df = pd.read_excel('D:/SImAge_Gradio/out/df.xlsx', index_col=0)\n",
    "\n",
    "now = datetime.datetime.now()\n",
    "df['Submission_Date'] = now.strftime(\"%Y-%m-%d %H:%M:%S\")\n",
    "df['subject_id'] = df.index + '_' + now.strftime(\"%Y-%m-%d_%H:%M:%S\")\n",
    "\n",
    "data_for_sql = df.loc[:, ['subject_id', 'Submission_Date', 'Age', 'CXCL9', 'CCL22', 'IL6', 'PDGFB', 'CD40LG', 'IL27', 'VEGFA', 'CSF1', 'PDGFA', 'CXCL10', 'SImAge']]"
   ]
  },
  {
   "cell_type": "code",
   "execution_count": null,
   "id": "769383487fe96d50",
   "metadata": {
    "ExecuteTime": {
     "end_time": "2024-07-08T11:18:13.447421700Z",
     "start_time": "2024-07-08T11:18:13.426420Z"
    },
    "collapsed": false
   },
   "outputs": [],
   "source": [
    "sql = '''\n",
    "    INSERT INTO data (subject_id, Submission_Date, Age, CXCL9, CCL22, IL6, PDGFB, CD40LG, IL27, VEGFA, CSF1, PDGFA, CXCL10, SImAge) \n",
    "    VALUES (%s, %s, %s, %s, %s, %s, %s, %s, %s, %s, %s, %s, %s, %s)\n",
    "    '''\n",
    "\n",
    "val = list(data_for_sql.itertuples(index=False))\n",
    "\n",
    "connection = create_db_connection(\"localhost\", \"root\", 'MySqlP@ssword2024!', 'simage_data')\n",
    "execute_list_query(connection, sql, val)"
   ]
  },
  {
   "cell_type": "code",
   "execution_count": null,
   "id": "d882c3cb0263fd98",
   "metadata": {
    "ExecuteTime": {
     "end_time": "2024-07-08T11:38:14.031927700Z",
     "start_time": "2024-07-08T11:38:14.015925600Z"
    },
    "collapsed": false
   },
   "outputs": [],
   "source": [
    "q1 = \"\"\"\n",
    "SELECT *\n",
    "FROM data;\n",
    "\"\"\"\n",
    "\n",
    "connection = create_db_connection(\"localhost\", \"root\", 'MySqlP@ssword2024!', 'simage_data')\n",
    "results = read_query(connection, q1)\n",
    "\n",
    "for result in results:\n",
    "  print(result)"
   ]
  }
 ],
 "metadata": {
  "kernelspec": {
   "display_name": "Python 3",
   "language": "python",
   "name": "python3"
  },
  "language_info": {
   "codemirror_mode": {
    "name": "ipython",
    "version": 3
   },
   "file_extension": ".py",
   "mimetype": "text/x-python",
   "name": "python",
   "nbconvert_exporter": "python",
   "pygments_lexer": "ipython3",
   "version": "3.10.14"
  }
 },
 "nbformat": 4,
 "nbformat_minor": 5
}
