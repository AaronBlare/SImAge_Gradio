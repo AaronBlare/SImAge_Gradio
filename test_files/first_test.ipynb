{
 "cells": [
  {
   "cell_type": "code",
   "execution_count": null,
   "id": "initial_id",
   "metadata": {
    "collapsed": true
   },
   "outputs": [],
   "source": [
    "import gradio as gr"
   ]
  },
  {
   "cell_type": "code",
   "outputs": [],
   "source": [
    "def greet(name, intensity):\n",
    "    return \"Hello, \" + name + \"!\" * int(intensity)"
   ],
   "metadata": {
    "collapsed": false
   },
   "id": "db8caf8571f470c",
   "execution_count": null
  },
  {
   "cell_type": "code",
   "outputs": [],
   "source": [
    "demo = gr.Interface(\n",
    "    fn=greet,\n",
    "    inputs=[\"text\", \"slider\"],\n",
    "    outputs=[\"text\"],\n",
    ")\n",
    "\n",
    "demo.launch()"
   ],
   "metadata": {
    "collapsed": false
   },
   "id": "6cd092f299c71d4c",
   "execution_count": null
  },
  {
   "cell_type": "code",
   "outputs": [],
   "source": [
    "import gradio as gr\n",
    "import time\n",
    "\n",
    "counter = 1\n",
    "\n",
    "def visible_component(input_text):\n",
    "    return gr.update(visible=True)\n",
    "\n",
    "\n",
    "def generate_output(input_text):\n",
    "    #gr.update(output_text,visible=True)\n",
    "    global counter\n",
    "    time.sleep(2)\n",
    "    output_text = \"Hello, \" + input_text + \"!\"\n",
    "    counter += 1\n",
    "    return output_text\n",
    "\n",
    "with gr.Blocks() as demo:\n",
    "    with gr.Row():\n",
    "    \n",
    "        # column for inputs\n",
    "        with gr.Column():\n",
    "            input_text = gr.Textbox(label=\"Input Text\")\n",
    "            submit_button = gr.Button(\"Submit\")\n",
    "                   \n",
    "        # column for outputs\n",
    "        with gr.Column():\n",
    "            output_text = gr.Textbox(visible=False)\n",
    "            \n",
    "    submit_button.click(\n",
    "        fn=visible_component,\n",
    "        inputs=input_text,\n",
    "        outputs=output_text\n",
    "    ).then(\n",
    "        #time.sleep(2),\n",
    "        fn=generate_output,\n",
    "        inputs=input_text,\n",
    "        outputs=output_text\n",
    "        )\n",
    "\n",
    "demo.launch()"
   ],
   "metadata": {
    "collapsed": false
   },
   "id": "e34088f48bd8274d",
   "execution_count": null
  }
 ],
 "metadata": {
  "kernelspec": {
   "display_name": "Python 3",
   "language": "python",
   "name": "python3"
  },
  "language_info": {
   "codemirror_mode": {
    "name": "ipython",
    "version": 2
   },
   "file_extension": ".py",
   "mimetype": "text/x-python",
   "name": "python",
   "nbconvert_exporter": "python",
   "pygments_lexer": "ipython2",
   "version": "2.7.6"
  }
 },
 "nbformat": 4,
 "nbformat_minor": 5
}
